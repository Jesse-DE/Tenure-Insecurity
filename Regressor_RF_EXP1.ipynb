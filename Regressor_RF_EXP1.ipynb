{
 "cells": [
  {
   "cell_type": "code",
   "execution_count": 15,
   "metadata": {},
   "outputs": [],
   "source": [
    "# Import system modules to allow ArcGIS functionalities\n",
    "import arcpy\n",
    "# Set property to overwrite existing outputs\n",
    "arcpy.env.overwriteOutput = True\n",
    "# Set the random generator to ACM599 with random seed of 540297\n",
    "arcpy.env.randomGenerator = \"540297 ACM599\""
   ]
  },
  {
   "cell_type": "code",
   "execution_count": 16,
   "metadata": {},
   "outputs": [],
   "source": [
    "# Forest-based model using data coming from a polygon feature class\n",
    "\n",
    "prediction_type = \"TRAIN\"\n",
    "\n",
    "#Set the directory of polygon feature (The research used 4 features, uncomment for accessing each polygon feature)\n",
    "in_features = r\"D:\\informal\\Final_data\\Variables_eo_shp\\Variables\\Shape\\Exp1.shp\" #Experiment 1 on buffer of 10m\n",
    "\n",
    "\n",
    "\n",
    "variable_predict = \"PTI_Index\"\n",
    "treat_variable_as_categorical = None\n"
   ]
  },
  {
   "cell_type": "code",
   "execution_count": 21,
   "metadata": {},
   "outputs": [],
   "source": [
    "#Set the explanatory variables\n",
    "#Using only image based variables from exp1\n",
    "explanatory_variables = [[\"Built_up_a\", \"false\"], [\"Low_green\", \"false\"], [\"Paved_road\", \"false\"],\\\n",
    "                         [\"Dense_gree\", \"false\"], [\"Unpaved_ar\", \"false\"], [\"GLCM_Contr\", \"false\"],\\\n",
    "                         [\"GLCM_Corre\", \"false\"], [\"GLCM_dissi\", \"false\"], [\"GLCM_Entro\", \"false\"],\\\n",
    "                         [\"GLCM_Homog\", \"false\"], [\"GLCM_Mean\", \"false\"], [\"GLCM_Secon\", \"false\"],\\\n",
    "                         [\"GLCM_Varia\", \"false\"]]"
   ]
  },
  {
   "cell_type": "code",
   "execution_count": 17,
   "metadata": {},
   "outputs": [],
   "source": [
    "#Set the explanatory variables\n",
    "#Using only image based variables from exp1\n",
    "explanatory_variables = [[\"Built_up_a\", \"false\"], [\"Low_green\", \"false\"], [\"Paved_road\", \"false\"],\\\n",
    "                         [\"Dense_gree\", \"false\"], [\"Unpaved_ar\", \"false\"], [\"GLCM_Contr\", \"false\"],\\\n",
    "                         [\"GLCM_Corre\", \"false\"], [\"GLCM_dissi\", \"false\"], [\"GLCM_Entro\", \"false\"],\\\n",
    "                         [\"GLCM_Homog\", \"false\"], [\"GLCM_Mean\", \"false\"], [\"GLCM_Secon\", \"false\"],\\\n",
    "                         [\"GLCM_Varia\", \"false\"], [\"Slope\", \"false\"], [\"Dist_road\", \"false\"], [\"Res_R1B\", \"false\"],\\\n",
    "                         [\"Res_R1\", \"false\"], [\"Res_R2\", \"false\"], [\"Transpor_1\", \"false\"], [\"Dist_wet\", \"false\"]]"
   ]
  },
  {
   "cell_type": "code",
   "execution_count": 18,
   "metadata": {},
   "outputs": [],
   "source": [
    "#Saving outputs, uncomment for respective output directory\n",
    "\n",
    "#Experiment 1 on buffer of 10m\n",
    "output_trained_features = r\"D:\\informal\\Final_data\\Variables_eo_shp\\Variables\\Output_prediction\\Output1.shp\"\n",
    "output_importance_table = r\"D:\\informal\\Final_data\\Variables_eo_shp\\Variables\\Output_prediction\\variable_importance_1\"\n"
   ]
  },
  {
   "cell_type": "code",
   "execution_count": 19,
   "metadata": {},
   "outputs": [],
   "source": [
    "\n",
    "#set arameter for RF\n",
    "number_of_trees = 500\n",
    "#minimum_leaf_size = 2\n",
    "#maximum_level = 5\n",
    "sample_size = 100\n",
    "#random_sample = 3\n",
    "#Retain 10% of training data for validation\n",
    "percentage_for_training = 10\n"
   ]
  },
  {
   "cell_type": "code",
   "execution_count": 22,
   "metadata": {},
   "outputs": [
    {
     "data": {
      "text/html": [
       "<h2>Output</h2><table><tr><th>id</th><th>value</th></tr><tr><td>0</td><td></td></tr><tr><td>1</td><td></td></tr><tr><td>2</td><td>D:\\informal\\Final_data\\Variables_eo_shp\\Variables\\Output_prediction\\Output1.shp</td></tr><tr><td>3</td><td>D:\\informal\\Final_data\\Variables_eo_shp\\Variables\\Output_prediction\\variable_importance_1.dbf</td></tr><tr><td>4</td><td></td></tr><tr><td>5</td><td></td></tr><tr><td>6</td><td></td></tr></table><h2>Messages</h2>Start Time: Monday, 26 April 2021 17:45:25<br/>Random Seed: 540297<br/><br/>-------------- Model Characteristics --------------<br/>Number of Trees                                 500<br/>Leaf Size                                         5<br/>Tree Depth Range                               6-17<br/>Mean Tree Depth                                  10<br/>% of Training Available per Tree                100<br/>Number of Randomly Sampled Variables              4<br/>% of Training Data Excluded for Validation       10<br/><br/>------------- Model Out of Bag Errors -------------<br/>Number of Trees                    250           500<br/>MSE                              0,269         0,266<br/>% of variation explained       -16,155       -14,822<br/><br/>------------ Top Variable Importance ------------<br/>Variable                Importance               %<br/>GLCM_Corre                    2,68              12<br/>GLCM_Entro                    2,64              12<br/>GLCM_Contr                    2,57              11<br/>GLCM_Mean                     2,50              11<br/>GLCM_Varia                    2,42              11<br/>GLCM_Secon                    2,40              10<br/>GLCM_Homog                    2,26              10<br/>GLCM_dissi                    2,22              10<br/>Built_up_a                    1,22               5<br/>Unpaved_ar                    0,90               4<br/>Paved_road                    0,77               3<br/>Dense_gree                    0,20               1<br/>Low_green                     0,14               1<br/><br/>----- Training Data: Regression Diagnostics ------<br/>R-Squared                                    0,918<br/>p-value                                      0,000<br/>Standard Error                               0,017<br/>*Predictions for the data used to train the model compared to the observed categories for those features<br/><br/>---- Validation Data: Regression Diagnostics -----<br/>R-Squared                                    0,217<br/>p-value                                      0,127<br/>Standard Error                               0,124<br/>*Predictions for the test data (excluded from model training) compared to the observed values for those test features<br/><br/>------------------- Explanatory Variable Range Diagnostics ------------------<br/>             Training                 Validation             Training   Validation<br/>Variable     Minimum    Maximum       Minimum      Maximum   Share(a)     Share(b)<br/>Built_up_a   33,73      100,00        53,51        100,00        1,00        0,70*<br/>Dense_gree   0,00       16,73         0,00         7,62          1,00        0,46*<br/>Low_green    0,00       14,17         0,00         11,62         1,00        0,82*<br/>Paved_road   0,00       66,27         0,00         46,49         1,00        0,70*<br/>GLCM_Contr   10,85      170,42        25,95        133,88        1,00        0,68*<br/>GLCM_Corre   105,79     211,20        132,00       176,75        1,00        0,42*<br/>GLCM_dissi   37,75      187,58        61,47        156,55        1,00        0,63*<br/>GLCM_Entro   193,89     253,68        216,30       247,74        1,00        0,53*<br/>GLCM_Homog   45,80      141,39        55,24        109,61        1,00        0,57*<br/>GLCM_Mean    54,26      194,90        82,11        222,72       0,83*        0,80*<br/>GLCM_Secon   3,51       52,69         8,93         32,50         1,00        0,48*<br/>GLCM_Varia   20,49      140,91        29,41        113,40        1,00        0,70*<br/>Unpaved_ar   0,00       62834225,00   0,00         30,75         1,00        0,00*<br/>(a) % of overlap between the ranges of the training data and the input explanatory variable<br/>(b) % of overlap between the ranges of the validation data and the training data<br/>*  Data ranges do not coincide. Training or validation is occurring with incomplete data.<br/>+  Ranges of the training data and prediction data do not coincide and the tool is attempting to extrapolate.<br/>Succeeded at Monday, 26 April 2021 17:45:26 (Elapsed Time: 1,13 seconds)<br/><style>.rendered_html td, .rendered_html th {text-align: left;}.rendered_html tbody {border: 1px solid black;}</style>"
      ],
      "text/plain": [
       "<Result ''>"
      ]
     },
     "execution_count": 22,
     "metadata": {},
     "output_type": "execute_result"
    }
   ],
   "source": [
    "#Call the RF module embedded in arcgis spatial capabilities\n",
    "arcpy.stats.Forest(prediction_type, in_features, variable_predict, treat_variable_as_categorical,\n",
    "    explanatory_variables, None, None, None, None, None, None, None, None,\n",
    "    output_trained_features,output_importance_table, True, number_of_trees, None, None, sample_size, \n",
    "    None, percentage_for_training)"
   ]
  },
  {
   "cell_type": "code",
   "execution_count": null,
   "metadata": {},
   "outputs": [],
   "source": []
  }
 ],
 "metadata": {
  "kernelspec": {
   "display_name": "Python 3",
   "language": "python",
   "name": "python3"
  },
  "language_info": {
   "codemirror_mode": {
    "name": "ipython",
    "version": 3
   },
   "file_extension": ".py",
   "mimetype": "text/x-python",
   "name": "python",
   "nbconvert_exporter": "python",
   "pygments_lexer": "ipython3",
   "version": "3.7.9"
  }
 },
 "nbformat": 4,
 "nbformat_minor": 5
}
