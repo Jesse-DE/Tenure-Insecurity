{
 "cells": [
  {
   "cell_type": "code",
   "execution_count": 12,
   "metadata": {},
   "outputs": [],
   "source": [
    "# Import system modules to allow ArcGIS functionalities\n",
    "import arcpy\n",
    "# Set property to overwrite existing outputs\n",
    "arcpy.env.overwriteOutput = True\n",
    "# Set the random generator to ACM599 with random seed of 540297\n",
    "arcpy.env.randomGenerator = \"540297 ACM599\""
   ]
  },
  {
   "cell_type": "code",
   "execution_count": 13,
   "metadata": {},
   "outputs": [],
   "source": [
    "# Forest-based model using data coming from a polygon feature class\n",
    "\n",
    "prediction_type = \"TRAIN\"\n",
    "\n",
    "#Set the directory of polygon feature (The research used 4 features, uncomment for accessing each polygon feature)\n",
    "in_features = r\"D:\\informal\\Final_data\\Variables_eo_shp\\Variables\\Shape\\Exp2.shp\" #Experiment 2 on buffer of 15m\n",
    "\n",
    "\n",
    "\n",
    "variable_predict = \"PTI_Index\"\n",
    "treat_variable_as_categorical = None\n"
   ]
  },
  {
   "cell_type": "code",
   "execution_count": 14,
   "metadata": {},
   "outputs": [],
   "source": [
    "#Set the explanatory variables\n",
    "#Using only image based variables from exp2\n",
    "explanatory_variables = [[\"built_up_a\", \"false\"], [\"low_green_\", \"false\"], [\"Paved_ar_1\", \"false\"],\\\n",
    "                         [\"dense_gree\", \"false\"], [\"unpaved_an\", \"false\"], [\"GLCM_Contr\", \"false\"],\\\n",
    "                         [\"GLCM_Corre\", \"false\"], [\"GLCM_dissi\", \"false\"], [\"GLCM_Entro\", \"false\"],\\\n",
    "                         [\"GLCM_Homog\", \"false\"], [\"GLCM_Mean\", \"false\"], [\"GLCM_Secon\", \"false\"],\\\n",
    "                         [\"GLCM_Varia\", \"false\"]]"
   ]
  },
  {
   "cell_type": "code",
   "execution_count": 18,
   "metadata": {},
   "outputs": [],
   "source": [
    "#Set the explanatory variables\n",
    "#Using all variables from exp2\n",
    "explanatory_variables = [[\"built_up_a\", \"false\"], [\"low_green_\", \"false\"], [\"Paved_ar_1\", \"false\"],\\\n",
    "                         [\"dense_gree\", \"false\"], [\"unpaved_an\", \"false\"], [\"GLCM_Contr\", \"false\"],\\\n",
    "                         [\"GLCM_Corre\", \"false\"], [\"GLCM_dissi\", \"false\"], [\"GLCM_Entro\", \"false\"],\\\n",
    "                         [\"GLCM_Homog\", \"false\"], [\"GLCM_Mean\", \"false\"], [\"GLCM_Secon\", \"false\"],\\\n",
    "                         [\"GLCM_Varia\", \"false\"], [\"Slope\", \"false\"], [\"Dist_road\", \"false\"], [\"Res_R1B\", \"false\"],\\\n",
    "                         [\"Res_R1\", \"false\"], [\"Res_R2\", \"false\"], [\"Transpor_1\", \"false\"], [\"Dist_wet\", \"false\"]]\n"
   ]
  },
  {
   "cell_type": "code",
   "execution_count": 19,
   "metadata": {},
   "outputs": [],
   "source": [
    "#Saving outputs, uncomment for respective output directory\n",
    "\n",
    "#Experiment 2 on buffer of 15m\n",
    "output_trained_features = r\"D:\\informal\\Final_data\\Variables_eo_shp\\Variables\\Output_prediction\\Output2.shp\"\n",
    "output_importance_table = r\"D:\\informal\\Final_data\\Variables_eo_shp\\Variables\\Output_prediction\\variable_importance_2\"\n"
   ]
  },
  {
   "cell_type": "code",
   "execution_count": 20,
   "metadata": {},
   "outputs": [],
   "source": [
    "\n",
    "#set arameter for RF\n",
    "number_of_trees = 500\n",
    "#minimum_leaf_size = 2\n",
    "#maximum_level = 5\n",
    "sample_size = 100\n",
    "#random_sample = 3\n",
    "#Retain 10% of training data for validation\n",
    "percentage_for_training = 10\n"
   ]
  },
  {
   "cell_type": "code",
   "execution_count": 21,
   "metadata": {},
   "outputs": [
    {
     "data": {
      "text/html": [
       "<h2>Output</h2><table><tr><th>id</th><th>value</th></tr><tr><td>0</td><td></td></tr><tr><td>1</td><td></td></tr><tr><td>2</td><td>D:\\informal\\Final_data\\Variables_eo_shp\\Variables\\Output_prediction\\Output2.shp</td></tr><tr><td>3</td><td>D:\\informal\\Final_data\\Variables_eo_shp\\Variables\\Output_prediction\\variable_importance_2.dbf</td></tr><tr><td>4</td><td></td></tr><tr><td>5</td><td></td></tr><tr><td>6</td><td></td></tr></table><h2>Messages</h2>Start Time: Monday, 26 April 2021 17:46:17<br/>Random Seed: 540297<br/><br/>-------------- Model Characteristics --------------<br/>Number of Trees                                 500<br/>Leaf Size                                         5<br/>Tree Depth Range                               6-19<br/>Mean Tree Depth                                  10<br/>% of Training Available per Tree                100<br/>Number of Randomly Sampled Variables              6<br/>% of Training Data Excluded for Validation       10<br/><br/>----------- Model Out of Bag Errors -----------<br/>Number of Trees                  250         500<br/>MSE                            0,225       0,223<br/>% of variation explained       2,916       3,857<br/><br/>------------ Top Variable Importance ------------<br/>Variable                Importance               %<br/>GLCM_Secon                    2,66              11<br/>Slope                         2,52              11<br/>GLCM_Entro                    2,20               9<br/>Dist_wet                      2,00               9<br/>GLCM_Contr                    1,50               6<br/>GLCM_Homog                    1,31               6<br/>GLCM_Varia                    1,28               5<br/>GLCM_dissi                    1,28               5<br/>GLCM_Mean                     1,28               5<br/>GLCM_Corre                    1,27               5<br/>Res_R2                        1,16               5<br/>Dist_road                     1,11               5<br/>built_up_a                    0,81               3<br/>dense_gree                    0,67               3<br/>Res_R1B                       0,64               3<br/>unpaved_an                    0,62               3<br/>low_green_                    0,38               2<br/>Paved_ar_1                    0,38               2<br/>Res_R1                        0,34               1<br/>Transpor_1                    0,11               0<br/><br/>----- Training Data: Regression Diagnostics ------<br/>R-Squared                                    0,930<br/>p-value                                      0,000<br/>Standard Error                               0,017<br/>*Predictions for the data used to train the model compared to the observed categories for those features<br/><br/>---- Validation Data: Regression Diagnostics -----<br/>R-Squared                                    0,359<br/>p-value                                      0,040<br/>Standard Error                               0,103<br/>*Predictions for the test data (excluded from model training) compared to the observed values for those test features<br/><br/>----------------- Explanatory Variable Range Diagnostics ----------------<br/>             Training             Validation             Training   Validation<br/>Variable     Minimum    Maximum   Minimum      Maximum   Share(a)     Share(b)<br/>built_up_a   17,30      100,00    61,23        100,00        1,00        0,47*<br/>dense_gree   0,00       81,98     0,00         38,77         1,00        0,47*<br/>unpaved_an   0,00       44,46     0,00         28,55         1,00        0,64*<br/>GLCM_Contr   16,38      135,39    30,58        116,41        1,00        0,72*<br/>GLCM_Corre   116,90     202,98    131,66       170,60        1,00        0,45*<br/>GLCM_dissi   45,97      160,02    68,64        144,79        1,00        0,67*<br/>GLCM_Entro   202,96     250,57    214,29       245,77        1,00        0,66*<br/>GLCM_Homog   51,94      132,12    59,16        102,88        1,00        0,55*<br/>GLCM_Mean    39,32      186,36    86,51        201,47       0,91*        0,68*<br/>GLCM_Secon   6,38       44,37     10,25        36,44         1,00        0,69*<br/>GLCM_Varia   18,96      112,60    32,02        101,33        1,00        0,74*<br/>Slope        5,01       51,41     5,29         43,07         1,00        0,81*<br/>Dist_road    0,35       125,89    6,00         101,91        1,00        0,76*<br/>Res_R1B      0,00       705,58    0,00         701,35        1,00        0,99*<br/>Res_R1       0,00       705,15    0,00         697,12        1,00        0,99*<br/>Res_R2       0,00       705,15    0,00         704,31        1,00        1,00*<br/>Transpor_1   0,00       1,00      0,00         0,00          1,00        0,00*<br/>Dist_wet     4,57       1703,35   65,53        1592,97       1,00        0,90*<br/>Paved_ar_1   0,00       18,82     0,00         18,03         1,00        0,96*<br/>low_green_   0,00       12,91     0,00         4,11          1,00        0,32*<br/>(a) % of overlap between the ranges of the training data and the input explanatory variable<br/>(b) % of overlap between the ranges of the validation data and the training data<br/>*  Data ranges do not coincide. Training or validation is occurring with incomplete data.<br/>+  Ranges of the training data and prediction data do not coincide and the tool is attempting to extrapolate.<br/>Succeeded at Monday, 26 April 2021 17:46:18 (Elapsed Time: 1,28 seconds)<br/><style>.rendered_html td, .rendered_html th {text-align: left;}.rendered_html tbody {border: 1px solid black;}</style>"
      ],
      "text/plain": [
       "<Result ''>"
      ]
     },
     "execution_count": 21,
     "metadata": {},
     "output_type": "execute_result"
    }
   ],
   "source": [
    "#Call the RF module embedded in arcgis spatial capabilities\n",
    "arcpy.stats.Forest(prediction_type, in_features, variable_predict, treat_variable_as_categorical,\n",
    "    explanatory_variables, None, None, None, None, None, None, None, None,\n",
    "    output_trained_features,output_importance_table, True, number_of_trees, None, None, sample_size, \n",
    "    None, percentage_for_training)"
   ]
  },
  {
   "cell_type": "code",
   "execution_count": null,
   "metadata": {},
   "outputs": [],
   "source": []
  }
 ],
 "metadata": {
  "kernelspec": {
   "display_name": "Python 3",
   "language": "python",
   "name": "python3"
  },
  "language_info": {
   "codemirror_mode": {
    "name": "ipython",
    "version": 3
   },
   "file_extension": ".py",
   "mimetype": "text/x-python",
   "name": "python",
   "nbconvert_exporter": "python",
   "pygments_lexer": "ipython3",
   "version": "3.7.9"
  }
 },
 "nbformat": 4,
 "nbformat_minor": 5
}
