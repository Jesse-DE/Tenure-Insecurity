{
 "cells": [
  {
   "cell_type": "code",
   "execution_count": 1,
   "metadata": {},
   "outputs": [],
   "source": [
    "# Import system modules to allow ArcGIS functionalities\n",
    "import arcpy\n",
    "# Set property to overwrite existing outputs\n",
    "arcpy.env.overwriteOutput = True\n",
    "# Set the random generator to ACM599 with random seed of 540297\n",
    "arcpy.env.randomGenerator = \"540297 ACM599\""
   ]
  },
  {
   "cell_type": "code",
   "execution_count": 2,
   "metadata": {},
   "outputs": [],
   "source": [
    "# Forest-based model using data coming from a polygon feature class\n",
    "\n",
    "prediction_type = \"TRAIN\"\n",
    "\n",
    "#Set the directory of polygon feature (The research used 4 features, uncomment for accessing each polygon feature)\n",
    "in_features = r\"D:\\informal\\Final_data\\Variables_eo_shp\\Variables\\Shape\\Exp3.shp\" #Experiment 3 on buffer of 20m\n",
    "\n",
    "\n",
    "\n",
    "variable_predict = \"PTI_Index\"\n",
    "treat_variable_as_categorical = None\n"
   ]
  },
  {
   "cell_type": "code",
   "execution_count": 3,
   "metadata": {},
   "outputs": [],
   "source": [
    "#Set the explanatory variables\n",
    "#Using only image based variables from exp3\n",
    "explanatory_variables = [[\"built_up_a\", \"false\"], [\"low_green_\", \"false\"], [\"paved_area\", \"false\"],\\\n",
    "                         [\"dense_gree\", \"false\"], [\"unpaved_an\", \"false\"], [\"GLCM_Contr\", \"false\"],\\\n",
    "                         [\"GLCM_Corre\", \"false\"], [\"GLCM_dissi\", \"false\"], [\"GLCM_Entro\", \"false\"],\\\n",
    "                         [\"GLCM_Homog\", \"false\"], [\"GLCM_Mean\", \"false\"], [\"GLCM_Secon\", \"false\"],\\\n",
    "                         [\"GLCM_Varia\", \"false\"]]"
   ]
  },
  {
   "cell_type": "code",
   "execution_count": 14,
   "metadata": {},
   "outputs": [],
   "source": [
    "#Set the explanatory variables\n",
    "#Using all variables from exp3\n",
    "explanatory_variables = [[\"built_up_a\", \"false\"], [\"low_green_\", \"false\"], [\"paved_area\", \"false\"],\\\n",
    "                         [\"dense_gree\", \"false\"], [\"unpaved_an\", \"false\"], [\"GLCM_Contr\", \"false\"],\\\n",
    "                         [\"GLCM_Corre\", \"false\"], [\"GLCM_dissi\", \"false\"], [\"GLCM_Entro\", \"false\"],\\\n",
    "                         [\"GLCM_Homog\", \"false\"], [\"GLCM_Mean\", \"false\"], [\"GLCM_Secon\", \"false\"],\\\n",
    "                         [\"GLCM_Varia\", \"false\"], [\"Slope\", \"false\"], [\"Dist_road\", \"false\"], [\"Res_R1B\", \"false\"],\\\n",
    "                         [\"Res_R1\", \"false\"], [\"Res_R2\", \"false\"], [\"Transpr_1\", \"false\"], [\"Dist_wet\", \"false\"]]\n"
   ]
  },
  {
   "cell_type": "code",
   "execution_count": 4,
   "metadata": {},
   "outputs": [],
   "source": [
    "#Saving outputs, uncomment for respective output directory\n",
    "\n",
    "#Experiment 3 on buffer of 20m\n",
    "output_trained_features = r\"D:\\informal\\Final_data\\Variables_eo_shp\\Variables\\Output_prediction\\Output3.shp\"\n",
    "output_importance_table = r\"D:\\informal\\Final_data\\Variables_eo_shp\\Variables\\Output_prediction\\variable_importance_3\"\n"
   ]
  },
  {
   "cell_type": "code",
   "execution_count": 5,
   "metadata": {},
   "outputs": [],
   "source": [
    "\n",
    "#set arameter for RF\n",
    "number_of_trees = 500\n",
    "sample_size = 100\n",
    "\n",
    "#Retain 10% of training data for validation\n",
    "percentage_for_training = 10\n"
   ]
  },
  {
   "cell_type": "code",
   "execution_count": 6,
   "metadata": {},
   "outputs": [
    {
     "data": {
      "text/html": [
       "<h2>Output</h2><table><tr><th>id</th><th>value</th></tr><tr><td>0</td><td></td></tr><tr><td>1</td><td></td></tr><tr><td>2</td><td>D:\\informal\\Final_data\\Variables_eo_shp\\Variables\\Output_prediction\\Output3.shp</td></tr><tr><td>3</td><td>D:\\informal\\Final_data\\Variables_eo_shp\\Variables\\Output_prediction\\variable_importance_3.dbf</td></tr><tr><td>4</td><td></td></tr><tr><td>5</td><td></td></tr><tr><td>6</td><td></td></tr></table><h2>Messages</h2>Start Time: Friday, 7 May 2021 13:36:42<br/>Random Seed: 540297<br/><br/>-------------- Model Characteristics --------------<br/>Number of Trees                                 500<br/>Leaf Size                                         5<br/>Tree Depth Range                               7-18<br/>Mean Tree Depth                                  10<br/>% of Training Available per Tree                100<br/>Number of Randomly Sampled Variables              4<br/>% of Training Data Excluded for Validation       10<br/><br/>------------ Model Out of Bag Errors -------------<br/>Number of Trees                    250          500<br/>MSE                              0,257        0,251<br/>% of variation explained       -10,992       -8,579<br/><br/>------------ Top Variable Importance ------------<br/>Variable                Importance               %<br/>GLCM_Corre                    2,64              11<br/>GLCM_Entro                    2,30              10<br/>GLCM_Homog                    2,09               9<br/>GLCM_Secon                    2,05               9<br/>GLCM_Mean                     2,00               9<br/>built_up_a                    1,86               8<br/>GLCM_Contr                    1,82               8<br/>GLCM_Varia                    1,78               8<br/>unpaved_an                    1,77               8<br/>GLCM_dissi                    1,64               7<br/>dense_gree                    1,23               5<br/>paved_area                    1,21               5<br/>low_green_                    0,67               3<br/><br/>----- Training Data: Regression Diagnostics ------<br/>R-Squared                                    0,927<br/>p-value                                      0,000<br/>Standard Error                               0,016<br/>*Predictions for the data used to train the model compared to the observed categories for those features<br/><br/>---- Validation Data: Regression Diagnostics -----<br/>R-Squared                                    0,446<br/>p-value                                      0,018<br/>Standard Error                               0,072<br/>*Predictions for the test data (excluded from model training) compared to the observed values for those test features<br/><br/>----------------- Explanatory Variable Range Diagnostics ----------------<br/>             Training             Validation             Training   Validation<br/>Variable     Minimum    Maximum   Minimum      Maximum   Share(a)     Share(b)<br/>built_up_a   24,91      100,00    65,15        100,00        1,00        0,46*<br/>paved_area   0,00       24,40     0,00         22,34         1,00        0,92*<br/>dense_gree   0,00       73,18     0,00         31,22         1,00        0,43*<br/>unpaved_an   0,00       37,46     0,00         20,80         1,00        0,56*<br/>GLCM_Contr   24,53      114,42    34,79        102,51        1,00        0,75*<br/>GLCM_Corre   120,74     195,02    133,28       166,73        1,00        0,45*<br/>GLCM_dissi   57,06      144,34    74,51        134,34        1,00        0,69*<br/>GLCM_Entro   208,07     248,58    223,54       245,41        1,00        0,54*<br/>GLCM_Homog   56,41      120,79    62,38        98,97         1,00        0,57*<br/>GLCM_Mean    50,00      174,42    83,58        189,90       0,89*        0,73*<br/>GLCM_Secon   7,69       41,25     10,10        28,80         1,00        0,56*<br/>GLCM_Varia   27,35      106,03    35,45        90,88         1,00        0,70*<br/>low_green_   0,00       12,99     0,00         4,11          1,00        0,32*<br/>(a) % of overlap between the ranges of the training data and the input explanatory variable<br/>(b) % of overlap between the ranges of the validation data and the training data<br/>*  Data ranges do not coincide. Training or validation is occurring with incomplete data.<br/>+  Ranges of the training data and prediction data do not coincide and the tool is attempting to extrapolate.<br/>Succeeded at Friday, 7 May 2021 13:36:43 (Elapsed Time: 1,08 seconds)<br/><style>.rendered_html td, .rendered_html th {text-align: left;}.rendered_html tbody {border: 1px solid black;}</style>"
      ],
      "text/plain": [
       "<Result ''>"
      ]
     },
     "execution_count": 6,
     "metadata": {},
     "output_type": "execute_result"
    }
   ],
   "source": [
    "#Call the RF module embedded in arcgis spatial capabilities\n",
    "arcpy.stats.Forest(prediction_type, in_features, variable_predict, treat_variable_as_categorical,\n",
    "    explanatory_variables, None, None, None, None, None, None, None, None,\n",
    "    output_trained_features,output_importance_table, True, number_of_trees, None, None, sample_size, \n",
    "    None, percentage_for_training)"
   ]
  },
  {
   "cell_type": "code",
   "execution_count": null,
   "metadata": {},
   "outputs": [],
   "source": []
  }
 ],
 "metadata": {
  "kernelspec": {
   "display_name": "Python 3",
   "language": "python",
   "name": "python3"
  },
  "language_info": {
   "codemirror_mode": {
    "name": "ipython",
    "version": 3
   },
   "file_extension": ".py",
   "mimetype": "text/x-python",
   "name": "python",
   "nbconvert_exporter": "python",
   "pygments_lexer": "ipython3",
   "version": "3.7.9"
  }
 },
 "nbformat": 4,
 "nbformat_minor": 5
}
